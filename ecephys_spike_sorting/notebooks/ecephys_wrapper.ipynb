{
 "cells": [
  {
   "cell_type": "code",
   "execution_count": 1,
   "id": "federal-campbell",
   "metadata": {},
   "outputs": [],
   "source": [
    "import os\n",
    "import shutil\n",
    "import subprocess\n",
    "import numpy as np\n",
    "import sys\n",
    "\n",
    "from ecephys_spike_sorting.scripts.helpers import log_from_json\n",
    "from ecephys_spike_sorting.scripts.create_input_json import createInputJson"
   ]
  },
  {
   "cell_type": "code",
   "execution_count": 18,
   "id": "quality-bottom",
   "metadata": {},
   "outputs": [],
   "source": [
    "run_file_base = \"20201224_C25R1_Day21_CenterRow180_TipRef\"\n",
    "\n",
    "# Get run paths and specs\n",
    "#run_specs = get_run_paths(run_file_base)\n",
    "\n",
    "# Booleans for running each module\n",
    "runCatGT = True   # set to False to sort/process previously processed data.\n",
    "runKS = True\n",
    "runKS_postprocess = True\n",
    "runWaveformMetrics = False\n",
    "runTPrime = True\n",
    "\n",
    "modules = []"
   ]
  },
  {
   "cell_type": "code",
   "execution_count": null,
   "id": "fleet-samba",
   "metadata": {},
   "outputs": [],
   "source": [
    "# Run pipeline\n",
    "# do something to get catGT arguments for this animal\n",
    "if runCatGT:\n",
    "    run_pipeline_modules(run_specs)"
   ]
  },
  {
   "cell_type": "code",
   "execution_count": 19,
   "id": "intermediate-tampa",
   "metadata": {},
   "outputs": [],
   "source": [
    "if runKS:\n",
    "    modules.append('kilosort_helper')\n",
    "if runKS_postprocess:\n",
    "    modules.append('kilosort_postprocessing')\n",
    "    modules.append('noise_templates')\n",
    "if runWaveformMetrics:\n",
    "    modules.append('mean_waveforms')\n",
    "    modules.append('quality_metrics')\n",
    "    "
   ]
  },
  {
   "cell_type": "code",
   "execution_count": 20,
   "id": "polyphonic-vanilla",
   "metadata": {},
   "outputs": [
    {
     "data": {
      "text/plain": [
       "['kilosort_helper', 'kilosort_postprocessing', 'noise_templates']"
      ]
     },
     "execution_count": 20,
     "metadata": {},
     "output_type": "execute_result"
    }
   ],
   "source": [
    "modules"
   ]
  },
  {
   "cell_type": "code",
   "execution_count": null,
   "id": "employed-carolina",
   "metadata": {},
   "outputs": [],
   "source": []
  }
 ],
 "metadata": {
  "kernelspec": {
   "display_name": "Python 3",
   "language": "python",
   "name": "python3"
  },
  "language_info": {
   "codemirror_mode": {
    "name": "ipython",
    "version": 3
   },
   "file_extension": ".py",
   "mimetype": "text/x-python",
   "name": "python",
   "nbconvert_exporter": "python",
   "pygments_lexer": "ipython3",
   "version": "3.6.9"
  }
 },
 "nbformat": 4,
 "nbformat_minor": 5
}
